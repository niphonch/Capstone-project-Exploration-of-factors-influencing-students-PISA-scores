{
 "cells": [
  {
   "cell_type": "markdown",
   "id": "4ff1a9a0",
   "metadata": {},
   "source": [
    "# Exploration of factors influencing students’ PISA scores in Thailand with Machine Learning approaches : Classification Models "
   ]
  },
  {
   "cell_type": "code",
   "execution_count": 1,
   "id": "e07c8805",
   "metadata": {},
   "outputs": [],
   "source": [
    "import pandas as pd\n",
    "import numpy as np\n",
    "import seaborn as sns\n",
    "import matplotlib.pyplot as plt\n",
    "import seaborn as sns \n",
    "from scipy import stats\n",
    "\n",
    "from sklearn.preprocessing import StandardScaler\n",
    "from sklearn.linear_model import Lasso, LassoCV\n",
    "from sklearn.metrics import mean_squared_error\n",
    "from sklearn.model_selection import train_test_split, cross_val_score, GridSearchCV, cross_val_score\n",
    "\n",
    "import xgboost as xgb\n",
    "from xgboost.sklearn import XGBClassifier\n",
    "# ML Models\n",
    "#import lightgbm as lgb\n",
    "#from lightgbm import LGBMRegressor \n",
    "import xgboost as xg \n",
    "from sklearn.ensemble import RandomForestClassifier\n",
    "from sklearn import svm\n",
    "from sklearn.linear_model import LogisticRegression\n",
    "# Import metrics\n",
    "from sklearn.metrics import confusion_matrix, ConfusionMatrixDisplay, \\\n",
    "accuracy_score, plot_roc_curve, roc_auc_score, recall_score, \\\n",
    "precision_score, f1_score, classification_report\n",
    "#interpretml \n",
    "from interpret import show\n",
    "from interpret.data import Marginal\n",
    "from interpret.glassbox import ExplainableBoostingClassifier\n",
    "from interpret.perf import RegressionPerf\n",
    "from interpret import set_visualize_provider\n",
    "from interpret.provider import InlineProvider\n",
    "set_visualize_provider(InlineProvider())\n",
    "# Feature Importance \n",
    "import shap"
   ]
  },
  {
   "cell_type": "code",
   "execution_count": 2,
   "id": "dfbf2100",
   "metadata": {},
   "outputs": [],
   "source": [
    "#Import dataset\n",
    "train_thailand = pd.read_csv('datasets/train_pisa2018_thailand.csv')\n",
    "test_thailand = pd.read_csv('datasets/test_pisa2018_thailand.csv')"
   ]
  },
  {
   "cell_type": "code",
   "execution_count": 3,
   "id": "046aee3d",
   "metadata": {
    "scrolled": true
   },
   "outputs": [
    {
     "data": {
      "text/html": [
       "<div>\n",
       "<style scoped>\n",
       "    .dataframe tbody tr th:only-of-type {\n",
       "        vertical-align: middle;\n",
       "    }\n",
       "\n",
       "    .dataframe tbody tr th {\n",
       "        vertical-align: top;\n",
       "    }\n",
       "\n",
       "    .dataframe thead th {\n",
       "        text-align: right;\n",
       "    }\n",
       "</style>\n",
       "<table border=\"1\" class=\"dataframe\">\n",
       "  <thead>\n",
       "    <tr style=\"text-align: right;\">\n",
       "      <th></th>\n",
       "      <th>CNTSTUID</th>\n",
       "      <th>GRADE</th>\n",
       "      <th>AGE</th>\n",
       "      <th>ISCEDL</th>\n",
       "      <th>ISCEDD</th>\n",
       "      <th>ISCEDO</th>\n",
       "      <th>PARED</th>\n",
       "      <th>IMMIG</th>\n",
       "      <th>REPEAT</th>\n",
       "      <th>MMINS</th>\n",
       "      <th>...</th>\n",
       "      <th>CLSIZE</th>\n",
       "      <th>CREACTIV</th>\n",
       "      <th>EDUSHORT</th>\n",
       "      <th>STAFFSHORT</th>\n",
       "      <th>STUBEHA</th>\n",
       "      <th>TEACHBEHA</th>\n",
       "      <th>SCMCEG</th>\n",
       "      <th>Is_MISCED_5A,6</th>\n",
       "      <th>Is_FISCED_5A,6</th>\n",
       "      <th>Is_HISCED_5A,6</th>\n",
       "    </tr>\n",
       "  </thead>\n",
       "  <tbody>\n",
       "    <tr>\n",
       "      <th>0</th>\n",
       "      <td>76400082.0</td>\n",
       "      <td>0.0</td>\n",
       "      <td>15.75</td>\n",
       "      <td>ISCED level 3</td>\n",
       "      <td>A</td>\n",
       "      <td>General</td>\n",
       "      <td>12.0</td>\n",
       "      <td>Native</td>\n",
       "      <td>Did not repeat a  grade</td>\n",
       "      <td>240.0</td>\n",
       "      <td>...</td>\n",
       "      <td>33</td>\n",
       "      <td>2</td>\n",
       "      <td>1.2478</td>\n",
       "      <td>0.1077</td>\n",
       "      <td>0.1795</td>\n",
       "      <td>-0.5205</td>\n",
       "      <td>-1.0542</td>\n",
       "      <td>0</td>\n",
       "      <td>0</td>\n",
       "      <td>0</td>\n",
       "    </tr>\n",
       "    <tr>\n",
       "      <th>1</th>\n",
       "      <td>76401146.0</td>\n",
       "      <td>-1.0</td>\n",
       "      <td>15.42</td>\n",
       "      <td>ISCED level 2</td>\n",
       "      <td>A</td>\n",
       "      <td>General</td>\n",
       "      <td>6.0</td>\n",
       "      <td>Native</td>\n",
       "      <td>Did not repeat a  grade</td>\n",
       "      <td>200.0</td>\n",
       "      <td>...</td>\n",
       "      <td>33</td>\n",
       "      <td>3</td>\n",
       "      <td>-1.4212</td>\n",
       "      <td>-1.4551</td>\n",
       "      <td>-3.3785</td>\n",
       "      <td>-0.7624</td>\n",
       "      <td>-0.1868</td>\n",
       "      <td>0</td>\n",
       "      <td>0</td>\n",
       "      <td>0</td>\n",
       "    </tr>\n",
       "  </tbody>\n",
       "</table>\n",
       "<p>2 rows × 99 columns</p>\n",
       "</div>"
      ],
      "text/plain": [
       "     CNTSTUID  GRADE    AGE         ISCEDL ISCEDD   ISCEDO  PARED   IMMIG  \\\n",
       "0  76400082.0    0.0  15.75  ISCED level 3      A  General   12.0  Native   \n",
       "1  76401146.0   -1.0  15.42  ISCED level 2      A  General    6.0  Native   \n",
       "\n",
       "                    REPEAT  MMINS  ...  CLSIZE  CREACTIV EDUSHORT  STAFFSHORT  \\\n",
       "0  Did not repeat a  grade  240.0  ...      33         2   1.2478      0.1077   \n",
       "1  Did not repeat a  grade  200.0  ...      33         3  -1.4212     -1.4551   \n",
       "\n",
       "   STUBEHA  TEACHBEHA  SCMCEG  Is_MISCED_5A,6  Is_FISCED_5A,6  Is_HISCED_5A,6  \n",
       "0   0.1795    -0.5205 -1.0542               0               0               0  \n",
       "1  -3.3785    -0.7624 -0.1868               0               0               0  \n",
       "\n",
       "[2 rows x 99 columns]"
      ]
     },
     "execution_count": 3,
     "metadata": {},
     "output_type": "execute_result"
    }
   ],
   "source": [
    "train_thailand.head(2)"
   ]
  },
  {
   "cell_type": "code",
   "execution_count": 4,
   "id": "ec5a1c53",
   "metadata": {},
   "outputs": [
    {
     "data": {
      "text/html": [
       "<div>\n",
       "<style scoped>\n",
       "    .dataframe tbody tr th:only-of-type {\n",
       "        vertical-align: middle;\n",
       "    }\n",
       "\n",
       "    .dataframe tbody tr th {\n",
       "        vertical-align: top;\n",
       "    }\n",
       "\n",
       "    .dataframe thead th {\n",
       "        text-align: right;\n",
       "    }\n",
       "</style>\n",
       "<table border=\"1\" class=\"dataframe\">\n",
       "  <thead>\n",
       "    <tr style=\"text-align: right;\">\n",
       "      <th></th>\n",
       "      <th>CNTSTUID</th>\n",
       "      <th>GRADE</th>\n",
       "      <th>AGE</th>\n",
       "      <th>ISCEDL</th>\n",
       "      <th>ISCEDD</th>\n",
       "      <th>ISCEDO</th>\n",
       "      <th>PARED</th>\n",
       "      <th>IMMIG</th>\n",
       "      <th>REPEAT</th>\n",
       "      <th>MMINS</th>\n",
       "      <th>...</th>\n",
       "      <th>CLSIZE</th>\n",
       "      <th>CREACTIV</th>\n",
       "      <th>EDUSHORT</th>\n",
       "      <th>STAFFSHORT</th>\n",
       "      <th>STUBEHA</th>\n",
       "      <th>TEACHBEHA</th>\n",
       "      <th>SCMCEG</th>\n",
       "      <th>Is_MISCED_5A,6</th>\n",
       "      <th>Is_FISCED_5A,6</th>\n",
       "      <th>Is_HISCED_5A,6</th>\n",
       "    </tr>\n",
       "  </thead>\n",
       "  <tbody>\n",
       "    <tr>\n",
       "      <th>0</th>\n",
       "      <td>76406643.0</td>\n",
       "      <td>0.0</td>\n",
       "      <td>15.42</td>\n",
       "      <td>ISCED level 3</td>\n",
       "      <td>A</td>\n",
       "      <td>General</td>\n",
       "      <td>16.0</td>\n",
       "      <td>Native</td>\n",
       "      <td>Did not repeat a  grade</td>\n",
       "      <td>50.0</td>\n",
       "      <td>...</td>\n",
       "      <td>48</td>\n",
       "      <td>3</td>\n",
       "      <td>-0.1130</td>\n",
       "      <td>-0.2968</td>\n",
       "      <td>-0.0384</td>\n",
       "      <td>0.9229</td>\n",
       "      <td>-1.4469</td>\n",
       "      <td>1</td>\n",
       "      <td>1</td>\n",
       "      <td>1</td>\n",
       "    </tr>\n",
       "    <tr>\n",
       "      <th>1</th>\n",
       "      <td>76407714.0</td>\n",
       "      <td>0.0</td>\n",
       "      <td>15.67</td>\n",
       "      <td>ISCED level 3</td>\n",
       "      <td>A</td>\n",
       "      <td>General</td>\n",
       "      <td>12.0</td>\n",
       "      <td>Native</td>\n",
       "      <td>Did not repeat a  grade</td>\n",
       "      <td>110.0</td>\n",
       "      <td>...</td>\n",
       "      <td>43</td>\n",
       "      <td>2</td>\n",
       "      <td>2.1432</td>\n",
       "      <td>-0.4314</td>\n",
       "      <td>0.2268</td>\n",
       "      <td>-2.0409</td>\n",
       "      <td>-0.1868</td>\n",
       "      <td>0</td>\n",
       "      <td>0</td>\n",
       "      <td>0</td>\n",
       "    </tr>\n",
       "  </tbody>\n",
       "</table>\n",
       "<p>2 rows × 99 columns</p>\n",
       "</div>"
      ],
      "text/plain": [
       "     CNTSTUID  GRADE    AGE         ISCEDL ISCEDD   ISCEDO  PARED   IMMIG  \\\n",
       "0  76406643.0    0.0  15.42  ISCED level 3      A  General   16.0  Native   \n",
       "1  76407714.0    0.0  15.67  ISCED level 3      A  General   12.0  Native   \n",
       "\n",
       "                    REPEAT  MMINS  ...  CLSIZE  CREACTIV EDUSHORT  STAFFSHORT  \\\n",
       "0  Did not repeat a  grade   50.0  ...      48         3  -0.1130     -0.2968   \n",
       "1  Did not repeat a  grade  110.0  ...      43         2   2.1432     -0.4314   \n",
       "\n",
       "   STUBEHA  TEACHBEHA  SCMCEG  Is_MISCED_5A,6  Is_FISCED_5A,6  Is_HISCED_5A,6  \n",
       "0  -0.0384     0.9229 -1.4469               1               1               1  \n",
       "1   0.2268    -2.0409 -0.1868               0               0               0  \n",
       "\n",
       "[2 rows x 99 columns]"
      ]
     },
     "execution_count": 4,
     "metadata": {},
     "output_type": "execute_result"
    }
   ],
   "source": [
    "test_thailand.head(2)"
   ]
  },
  {
   "cell_type": "code",
   "execution_count": 5,
   "id": "5bd02362",
   "metadata": {},
   "outputs": [
    {
     "data": {
      "text/plain": [
       "(0, 0)"
      ]
     },
     "execution_count": 5,
     "metadata": {},
     "output_type": "execute_result"
    }
   ],
   "source": [
    "train_thailand.isnull().sum().sum(), test_thailand.isnull().sum().sum()"
   ]
  },
  {
   "cell_type": "code",
   "execution_count": 6,
   "id": "9c1b47cd",
   "metadata": {},
   "outputs": [],
   "source": [
    "train_thailand.set_index('CNTSTUID', inplace=True)\n",
    "test_thailand.set_index('CNTSTUID', inplace=True)"
   ]
  },
  {
   "cell_type": "code",
   "execution_count": 7,
   "id": "fc917f74",
   "metadata": {},
   "outputs": [
    {
     "data": {
      "text/html": [
       "<div>\n",
       "<style scoped>\n",
       "    .dataframe tbody tr th:only-of-type {\n",
       "        vertical-align: middle;\n",
       "    }\n",
       "\n",
       "    .dataframe tbody tr th {\n",
       "        vertical-align: top;\n",
       "    }\n",
       "\n",
       "    .dataframe thead th {\n",
       "        text-align: right;\n",
       "    }\n",
       "</style>\n",
       "<table border=\"1\" class=\"dataframe\">\n",
       "  <thead>\n",
       "    <tr style=\"text-align: right;\">\n",
       "      <th></th>\n",
       "      <th>TOTALSCORE</th>\n",
       "    </tr>\n",
       "  </thead>\n",
       "  <tbody>\n",
       "    <tr>\n",
       "      <th>count</th>\n",
       "      <td>6775.000000</td>\n",
       "    </tr>\n",
       "    <tr>\n",
       "      <th>mean</th>\n",
       "      <td>431.946357</td>\n",
       "    </tr>\n",
       "    <tr>\n",
       "      <th>std</th>\n",
       "      <td>85.666985</td>\n",
       "    </tr>\n",
       "    <tr>\n",
       "      <th>min</th>\n",
       "      <td>210.007233</td>\n",
       "    </tr>\n",
       "    <tr>\n",
       "      <th>25%</th>\n",
       "      <td>367.618350</td>\n",
       "    </tr>\n",
       "    <tr>\n",
       "      <th>50%</th>\n",
       "      <td>419.663433</td>\n",
       "    </tr>\n",
       "    <tr>\n",
       "      <th>75%</th>\n",
       "      <td>489.412667</td>\n",
       "    </tr>\n",
       "    <tr>\n",
       "      <th>max</th>\n",
       "      <td>707.016300</td>\n",
       "    </tr>\n",
       "  </tbody>\n",
       "</table>\n",
       "</div>"
      ],
      "text/plain": [
       "        TOTALSCORE\n",
       "count  6775.000000\n",
       "mean    431.946357\n",
       "std      85.666985\n",
       "min     210.007233\n",
       "25%     367.618350\n",
       "50%     419.663433\n",
       "75%     489.412667\n",
       "max     707.016300"
      ]
     },
     "execution_count": 7,
     "metadata": {},
     "output_type": "execute_result"
    }
   ],
   "source": [
    "train_thailand[['TOTALSCORE']].describe()"
   ]
  },
  {
   "cell_type": "code",
   "execution_count": null,
   "id": "10a36ee2",
   "metadata": {},
   "outputs": [],
   "source": [
    "def assign_performance_level(data):\n",
    "    if data <= train_thailand['TOTALSCORE'].mean():\n",
    "        return '0' #lowperformance \n",
    "    else:\n",
    "         return '1'  #highperformance "
   ]
  },
  {
   "cell_type": "code",
   "execution_count": null,
   "id": "da2182f0",
   "metadata": {},
   "outputs": [],
   "source": [
    "train_thailand['PISALEVEL'] = train_thailand['TOTALSCORE'].apply(assign_performance_level)\n",
    "test_thailand['PISALEVEL'] = test_thailand['TOTALSCORE'].apply(assign_performance_level)"
   ]
  },
  {
   "cell_type": "code",
   "execution_count": null,
   "id": "262f1bcb",
   "metadata": {},
   "outputs": [],
   "source": [
    "train_thailand['PISALEVEL'].value_counts()"
   ]
  },
  {
   "cell_type": "code",
   "execution_count": null,
   "id": "99db50a7",
   "metadata": {},
   "outputs": [],
   "source": [
    "train_thailand['PISALEVEL'].value_counts(normalize=True).mul(100).round(2)"
   ]
  },
  {
   "cell_type": "code",
   "execution_count": null,
   "id": "4838c27f",
   "metadata": {},
   "outputs": [],
   "source": [
    "test_thailand['PISALEVEL'].value_counts()"
   ]
  },
  {
   "cell_type": "code",
   "execution_count": null,
   "id": "92baaf70",
   "metadata": {},
   "outputs": [],
   "source": [
    "test_thailand['PISALEVEL'].value_counts(normalize=True).mul(100).round(2)"
   ]
  },
  {
   "cell_type": "code",
   "execution_count": null,
   "id": "d85aef32",
   "metadata": {},
   "outputs": [],
   "source": [
    "X_train =train_thailand[['PARED', 'SMINS', 'CHANGE', 'ESCS', 'UNDREM', 'METASUM',\n",
    "       'METASPAM', 'HOMEPOS', 'HEDRES', 'ICTRES', 'EMOSUPS', 'JOYREAD',\n",
    "       'WORKMAST', 'GCSELFEFF', 'PERSPECT', 'RESPECT', 'AWACOM',\n",
    "       'DISCRIM', 'INTICT', 'SENWT', 'STRATIO', 'TOTAT', 'PROAT5AB', 'PROAT5AM', 'PROAT6',\n",
    "       'CREACTIV', 'EDUSHORT', 'STUBEHA', 'Is_MISCED_5A,6',\n",
    "       'Is_FISCED_5A,6', 'ISCEDL', 'ISCEDD','ISCEDO', 'IMMIG', 'REPEAT', 'SCCHANGE', 'GENDER','Dept', 'Region','SCHLTYPE', 'GRADE']]\n",
    "X_train = pd.get_dummies(columns=[ 'Is_MISCED_5A,6','Is_FISCED_5A,6', 'ISCEDL', 'ISCEDD','ISCEDO', 'IMMIG', 'REPEAT',\n",
    "                                  'SCCHANGE', 'GENDER','Dept', 'Region','SCHLTYPE'], drop_first =True, data =X_train)\n",
    "y_train = train_thailand['PISALEVEL']\n",
    "\n",
    "\n",
    "X_test =test_thailand[['PARED', 'SMINS', 'CHANGE', 'ESCS', 'UNDREM', 'METASUM',\n",
    "       'METASPAM', 'HOMEPOS', 'HEDRES', 'ICTRES', 'EMOSUPS', 'JOYREAD',\n",
    "       'WORKMAST', 'GCSELFEFF', 'PERSPECT', 'RESPECT', 'AWACOM',\n",
    "       'DISCRIM', 'INTICT', 'SENWT', 'STRATIO', 'TOTAT', 'PROAT5AB', 'PROAT5AM', 'PROAT6',\n",
    "       'CREACTIV', 'EDUSHORT', 'STUBEHA', 'Is_MISCED_5A,6',\n",
    "       'Is_FISCED_5A,6', 'ISCEDL', 'ISCEDD','ISCEDO', 'IMMIG', 'REPEAT', 'SCCHANGE', 'GENDER','Dept', 'Region','SCHLTYPE', 'GRADE']]\n",
    "X_test = pd.get_dummies(columns=[ 'Is_MISCED_5A,6','Is_FISCED_5A,6', 'ISCEDL', 'ISCEDD','ISCEDO', 'IMMIG', 'REPEAT', 'SCCHANGE', \n",
    "                                 'GENDER','Dept', 'Region','SCHLTYPE'], drop_first =True, data =X_test)\n",
    "y_test = test_thailand['PISALEVEL']"
   ]
  },
  {
   "cell_type": "code",
   "execution_count": null,
   "id": "5b9704c1",
   "metadata": {},
   "outputs": [],
   "source": [
    "scaler = StandardScaler()\n",
    "\n",
    "X_train_sc = scaler.fit_transform(X_train)\n",
    "\n",
    "X_test_sc = scaler.transform(X_test)"
   ]
  },
  {
   "cell_type": "code",
   "execution_count": null,
   "id": "7424546a",
   "metadata": {},
   "outputs": [],
   "source": [
    "from sklearn.dummy import DummyClassifier\n",
    "baseline_model = DummyClassifier()\n",
    "baseline_model.fit(X_train_sc, y_train)\n",
    "baseline_preds = baseline_model.predict(X_test_sc)\n",
    "ConfusionMatrixDisplay.from_predictions(y_test, baseline_preds);"
   ]
  },
  {
   "cell_type": "code",
   "execution_count": null,
   "id": "2f24f88b",
   "metadata": {},
   "outputs": [],
   "source": [
    "from sklearn.metrics import classification_report\n",
    "\n",
    "print(classification_report(y_test, baseline_preds))"
   ]
  },
  {
   "cell_type": "code",
   "execution_count": null,
   "id": "1880219f",
   "metadata": {},
   "outputs": [],
   "source": [
    "logreg =LogisticRegression()\n",
    "\n",
    "\n",
    "parameters = [{'penalty':['l1','l2']}, \n",
    "              {'C':[1, 10, 100]}]\n",
    "\n",
    "logreg_gr = GridSearchCV(estimator = logreg,  \n",
    "                           param_grid = parameters,\n",
    "                           scoring = 'accuracy',\n",
    "                           cv = 5,\n",
    "                           verbose=0)\n",
    "\n",
    "logreg_gr.fit(X_train_sc, y_train)\n"
   ]
  },
  {
   "cell_type": "code",
   "execution_count": null,
   "id": "3d02b62c",
   "metadata": {},
   "outputs": [],
   "source": [
    "preds= logreg_gr.predict(X_test_sc)"
   ]
  },
  {
   "cell_type": "code",
   "execution_count": null,
   "id": "5a918ca0",
   "metadata": {},
   "outputs": [],
   "source": [
    "pd.DataFrame(logreg_gr.cv_results_).sort_values('rank_test_score').head(5)[['params','mean_test_score']]"
   ]
  },
  {
   "cell_type": "code",
   "execution_count": null,
   "id": "7621fc03",
   "metadata": {},
   "outputs": [],
   "source": [
    "cm = confusion_matrix(y_test, preds)\n",
    "# visualize confusion matrix with seaborn heatmap\n",
    "\n",
    "cm_matrix = pd.DataFrame(data=cm, columns=['Actual High:1', 'Actual Low:0'], \n",
    "                                 index=['Predict High:1', 'Predict Low:0'])\n",
    "\n",
    "sns.heatmap(cm_matrix, annot=True, fmt='d', cmap='YlGnBu');"
   ]
  },
  {
   "cell_type": "code",
   "execution_count": null,
   "id": "726ee70d",
   "metadata": {},
   "outputs": [],
   "source": [
    "from sklearn.metrics import classification_report\n",
    "\n",
    "print(classification_report(y_test, preds))"
   ]
  },
  {
   "cell_type": "code",
   "execution_count": null,
   "id": "c12eefa1",
   "metadata": {},
   "outputs": [],
   "source": [
    "len(X_train.columns), len(logreg.coef_)"
   ]
  },
  {
   "cell_type": "code",
   "execution_count": null,
   "id": "2e6d021d",
   "metadata": {},
   "outputs": [],
   "source": [
    "logreg =LogisticRegression(random_state= 42, C= 10)\n",
    "logreg.fit(X_train_sc, y_train)\n",
    "preds= logreg.predict(X_test_sc)\n",
    "pd.Series(logreg.coef_[0], index = X_train.columns).sort_values(ascending=False)"
   ]
  },
  {
   "cell_type": "code",
   "execution_count": null,
   "id": "96a15919",
   "metadata": {},
   "outputs": [],
   "source": []
  },
  {
   "cell_type": "code",
   "execution_count": null,
   "id": "3b00c8ff",
   "metadata": {},
   "outputs": [],
   "source": [
    "ebm = ExplainableBoostingClassifier(random_state=42, feature_names =X_train.columns)\n",
    "ebm.fit(X_train_sc, y_train)"
   ]
  },
  {
   "cell_type": "code",
   "execution_count": null,
   "id": "c569c7ca",
   "metadata": {
    "scrolled": false
   },
   "outputs": [],
   "source": [
    "ebm_global = ebm.explain_global(name='EBM')\n",
    "show(ebm_global)\n",
    "\n"
   ]
  },
  {
   "cell_type": "code",
   "execution_count": null,
   "id": "c9e93bdb",
   "metadata": {},
   "outputs": [],
   "source": [
    "ebm.score(X_train_sc, y_train),ebm.score(X_test_sc, y_test)"
   ]
  },
  {
   "cell_type": "code",
   "execution_count": null,
   "id": "38f7f099",
   "metadata": {},
   "outputs": [],
   "source": [
    "preds_ebm = ebm.predict(X_test_sc)"
   ]
  },
  {
   "cell_type": "code",
   "execution_count": null,
   "id": "c8a222dd",
   "metadata": {},
   "outputs": [],
   "source": [
    "cm_ebm = confusion_matrix(y_test, preds_ebm)\n",
    "# visualize confusion matrix with seaborn heatmap\n",
    "\n",
    "cm_matrix = pd.DataFrame(data=cm_ebm, columns=['Actual High:1', 'Actual Low:0'], \n",
    "                                 index=['Predict High:1', 'Predict Low:0'])\n",
    "\n",
    "sns.heatmap(cm_matrix, annot=True, fmt='d', cmap='YlGnBu');"
   ]
  },
  {
   "cell_type": "code",
   "execution_count": null,
   "id": "6f9f616a",
   "metadata": {},
   "outputs": [],
   "source": [
    "print(classification_report(y_test, preds_ebm))"
   ]
  },
  {
   "cell_type": "code",
   "execution_count": null,
   "id": "75b1f632",
   "metadata": {},
   "outputs": [],
   "source": [
    "rfc = RandomForestClassifier(n_estimators=100, random_state=42)\n",
    "\n",
    "# fit the model to the training set\n",
    "\n",
    "rfc.fit(X_train, y_train)\n",
    "\n",
    "# Predict on the test set results\n",
    "\n",
    "preds_rfc = rfc.predict(X_test)\n",
    "print('Model accuracy score with 100 decision-trees : {0:0.4f}'. \n",
    "      format(accuracy_score(y_test, preds)))"
   ]
  },
  {
   "cell_type": "code",
   "execution_count": null,
   "id": "8df6f9c0",
   "metadata": {},
   "outputs": [],
   "source": [
    "#Find important features with Random Forest model "
   ]
  },
  {
   "cell_type": "code",
   "execution_count": null,
   "id": "ba5517a8",
   "metadata": {},
   "outputs": [],
   "source": [
    "# view the feature scores\n",
    "\n",
    "feature_scores = pd.Series(rfc.feature_importances_, index=X_train.columns).sort_values(ascending=False)\n",
    "\n",
    "feature_scores"
   ]
  },
  {
   "cell_type": "code",
   "execution_count": null,
   "id": "c23a9b94",
   "metadata": {},
   "outputs": [],
   "source": [
    "# Creating a seaborn bar plot\n",
    "\n",
    "f, ax = plt.subplots(figsize=(30, 24))\n",
    "ax = sns.barplot(x=feature_scores, y=feature_scores.index, data=train_thailand)\n",
    "ax.set_title(\"Visualize feature scores of the features\")\n",
    "ax.set_yticklabels(feature_scores.index)\n",
    "ax.set_xlabel(\"Feature importance score\")\n",
    "ax.set_ylabel(\"Features\")\n",
    "plt.show()"
   ]
  },
  {
   "cell_type": "code",
   "execution_count": null,
   "id": "b0d00194",
   "metadata": {},
   "outputs": [],
   "source": [
    "cm_rfc = confusion_matrix(y_test, preds_rfc)\n",
    "# visualize confusion matrix with seaborn heatmap\n",
    "\n",
    "cm_matrix = pd.DataFrame(data=cm_rfc, columns=['Actual High:1', 'Actual Low:0'], \n",
    "                                 index=['Predict High:1', 'Predict Low:0'])\n",
    "\n",
    "sns.heatmap(cm_matrix, annot=True, fmt='d', cmap='YlGnBu');"
   ]
  },
  {
   "cell_type": "code",
   "execution_count": null,
   "id": "ce59a78d",
   "metadata": {},
   "outputs": [],
   "source": [
    "print(classification_report(y_test, preds_rfc))"
   ]
  },
  {
   "cell_type": "code",
   "execution_count": null,
   "id": "24574bc3",
   "metadata": {},
   "outputs": [],
   "source": [
    "from sklearn.preprocessing import LabelEncoder\n",
    "le = LabelEncoder()\n",
    "y_train = le.fit_transform(y_train)\n",
    "y_test = le.fit_transform(y_test)"
   ]
  },
  {
   "cell_type": "code",
   "execution_count": null,
   "id": "9a6feae3",
   "metadata": {},
   "outputs": [],
   "source": [
    "xgb = XGBClassifier(n_estimators = 200, learning_rate = 0.5, max_depth = 4)\n",
    "xgb.fit(X_train_sc, y_train)"
   ]
  },
  {
   "cell_type": "code",
   "execution_count": null,
   "id": "1e91f5de",
   "metadata": {},
   "outputs": [],
   "source": [
    "preds_xgb = xgb.predict(X_test_sc)"
   ]
  },
  {
   "cell_type": "code",
   "execution_count": null,
   "id": "21b0baf8",
   "metadata": {},
   "outputs": [],
   "source": [
    "# view the feature scores\n",
    "\n",
    "feature_scores = pd.Series(xgb.feature_importances_, index=X_train.columns).sort_values(ascending=False)\n",
    "\n",
    "feature_scores"
   ]
  },
  {
   "cell_type": "code",
   "execution_count": null,
   "id": "3efe82a0",
   "metadata": {},
   "outputs": [],
   "source": [
    "cm_xgb = confusion_matrix(y_test, preds_xgb)\n",
    "# visualize confusion matrix with seaborn heatmap\n",
    "\n",
    "cm_matrix = pd.DataFrame(data=cm_xgb, columns=['Actual High:1', 'Actual Low:0'], \n",
    "                                 index=['Predict High:1', 'Predict Low:0'])\n",
    "\n",
    "sns.heatmap(cm_matrix, annot=True, fmt='d', cmap='YlGnBu');"
   ]
  },
  {
   "cell_type": "code",
   "execution_count": null,
   "id": "ba899c03",
   "metadata": {},
   "outputs": [],
   "source": [
    "print(classification_report(y_test, preds_xgb))"
   ]
  },
  {
   "cell_type": "code",
   "execution_count": null,
   "id": "32c65e67",
   "metadata": {},
   "outputs": [],
   "source": [
    "# explain the model's predictions using SHAP\n",
    "explainer = shap.TreeExplainer(xgb)\n",
    "shap_values = explainer.shap_values(X_train_sc)"
   ]
  },
  {
   "cell_type": "code",
   "execution_count": null,
   "id": "0ee7175b",
   "metadata": {},
   "outputs": [],
   "source": [
    "shap_values = shap.TreeExplainer(xgb).shap_values(X_train_sc)\n",
    "shap.summary_plot(shap_values, X_train_sc, plot_type=\"bar\", feature_names= X_train.columns)"
   ]
  },
  {
   "cell_type": "code",
   "execution_count": null,
   "id": "bae083ab",
   "metadata": {},
   "outputs": [],
   "source": [
    "xgb = XGBClassifier()\n",
    "parameters = {'learning_rate': [.03, 0.05], #so called `eta` value\n",
    "              'max_depth': [2, 3, 4],\n",
    "              'n_estimators': [100, 200]}\n",
    "\n",
    "xgb_grid = GridSearchCV(xgb,\n",
    "                        parameters,\n",
    "                        cv = 2,\n",
    "                        verbose=True)\n",
    "\n",
    "xgb_grid.fit(X_train,y_train)\n",
    "\n",
    "print(xgb_grid.best_score_)\n",
    "print(xgb_grid.best_params_)"
   ]
  },
  {
   "cell_type": "code",
   "execution_count": null,
   "id": "91320e27",
   "metadata": {},
   "outputs": [],
   "source": [
    "pd.DataFrame(xgb_grid.cv_results_).sort_values('rank_test_score').head(5)[['params','param_max_depth','mean_test_score']]"
   ]
  }
 ],
 "metadata": {
  "kernelspec": {
   "display_name": "Python 3 (ipykernel)",
   "language": "python",
   "name": "python3"
  },
  "language_info": {
   "codemirror_mode": {
    "name": "ipython",
    "version": 3
   },
   "file_extension": ".py",
   "mimetype": "text/x-python",
   "name": "python",
   "nbconvert_exporter": "python",
   "pygments_lexer": "ipython3",
   "version": "3.9.12"
  }
 },
 "nbformat": 4,
 "nbformat_minor": 5
}
